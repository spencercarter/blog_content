{
 "cells": [
  {
   "cell_type": "markdown",
   "metadata": {},
   "source": [
    "## A fast and dirty intro to running a model via web service\n",
    "\n",
    "Have you ever needed to score data with a predictive model in (near) real time, using a remote server/machine? While not a statistical or machine learning topic, it's one that I struggled with for a while, and haven't found many resources for.\n",
    "\n",
    "In this post, we're going to assume an understanding of predictive modeling and python, to focus on a simple way to set up a web service that can recieve data and return model predictions over the internet.\n",
    "\n",
    "This way is by no means definitive, but is straightforward and effective."
   ]
  },
  {
   "cell_type": "markdown",
   "metadata": {},
   "source": [
    "___\n",
    "\n",
    "### [Part 1: Model](http://spencercarter.info/docs/model_web_service_flask_p1.ipynb)\n",
    "\n",
    "To get our model going, let's just fit a simple LASSO with K-fold on the boston data\n",
    "This is a quick model just to get something running in our web service. It's roughly based on [This example code from sklearn](http://scikit-learn.org/stable/auto_examples/feature_selection/plot_select_from_model_boston.html#sphx-glr-auto-examples-feature-selection-plot-select-from-model-boston-py). "
   ]
  },
  {
   "cell_type": "code",
   "execution_count": 1,
   "metadata": {},
   "outputs": [
    {
     "name": "stdout",
     "output_type": "stream",
     "text": [
      "Fitting model...\n",
      "Model fit. R-Squared = 71.06%\n"
     ]
    }
   ],
   "source": [
    "import sklearn as sk\n",
    "import numpy as np\n",
    "from sklearn.datasets import load_boston\n",
    "from sklearn.linear_model import LassoCV\n",
    "import pandas as pd\n",
    "from flask import Flask\n",
    "from flask import request\n",
    "import requests\n",
    "import pickle\n",
    "from time import time\n",
    "\n",
    "# Load up the Mass data... I like keeping things in pandas DFs\n",
    "mass = load_boston()\n",
    "\n",
    "# Lowecase the predictor names and send the data to Pandas\n",
    "predictors = [var.lower() for var in mass.feature_names]\n",
    "X = pd.DataFrame(mass['data'], columns=predictors)\n",
    "y = pd.Series(mass['target']) # medv\n",
    "\n",
    "# Run a 3-fold CV LASSO with 10 weights chosen by steepest descent\n",
    "lasso = LassoCV(n_alphas=10, normalize=True, cv=3)\n",
    "\n",
    "print(\"Fitting model...\")\n",
    "lasso.fit(X,y)\n",
    "\n",
    "print(\"Model fit. R-Squared = {0:0.2f}%\".format(100*lasso.score(X,y)))"
   ]
  },
  {
   "cell_type": "markdown",
   "metadata": {},
   "source": [
    "This is enough for our demonstration... We're assuming a basic familiarity with modeling concepts like variable selection and use of validation data.\n",
    "\n",
    "Now, we're going to save the current objects down to disk so our listener and sender can access them. While everything is together in this document, the source code I've made available is split into Model, Listener, and Sender"
   ]
  },
  {
   "cell_type": "code",
   "execution_count": 2,
   "metadata": {
    "collapsed": true
   },
   "outputs": [],
   "source": [
    "# A couple simple pickle functions\n",
    "def pickle_me(obj, outfile):\n",
    "    with open(outfile, 'wb') as f:\n",
    "        pickle.dump(obj, f, protocol=pickle.HIGHEST_PROTOCOL)\n",
    "    return None\n",
    "\n",
    "def unpickle_me(infile):\n",
    "    with open(infile, 'rb') as f:\n",
    "        unpickled = pickle.load(f)\n",
    "    return unpickled\n",
    "               \n",
    "to_pickle = {'X':X, 'lasso':lasso, 'dtypes':X.dtypes, 'predictors':predictors}\n",
    "pickle_me(to_pickle, 'model_web_service.pickle')    "
   ]
  }
 ],
 "metadata": {
  "kernelspec": {
   "display_name": "Python [conda env:base]",
   "language": "python",
   "name": "conda-env-base-py"
  },
  "language_info": {
   "codemirror_mode": {
    "name": "ipython",
    "version": 3
   },
   "file_extension": ".py",
   "mimetype": "text/x-python",
   "name": "python",
   "nbconvert_exporter": "python",
   "pygments_lexer": "ipython3",
   "version": "3.5.4"
  }
 },
 "nbformat": 4,
 "nbformat_minor": 2
}
